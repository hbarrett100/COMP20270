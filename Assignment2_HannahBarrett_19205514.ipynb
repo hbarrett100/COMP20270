{
 "cells": [
  {
   "cell_type": "markdown",
   "metadata": {},
   "source": [
    "This is my game of Dobble. \n",
    "\n",
    "In the cell below is the code provided to import the emoji's for the cards."
   ]
  },
  {
   "cell_type": "code",
   "execution_count": 1,
   "metadata": {
    "scrolled": true
   },
   "outputs": [
    {
     "name": "stdout",
     "output_type": "stream",
     "text": [
      "{1: '👽', 2: '🐕', 3: '🐱', 4: '🚑', 5: '🚓', 6: '🐼', 7: '🐶', 8: '🐸', 9: '🐴', 10: '🐰', 11: '🐭', 12: '🐬', 13: '🐢', 14: '🐝', 15: '🐜', 16: '🐌', 17: '🏆', 18: '🎺', 19: '🎸', 20: '🎵', 21: '🎲', 22: '🎩', 23: '🎈', 24: '🎀', 25: '🍺', 26: '🍦', 27: '🍓', 28: '🍒', 29: '🍉', 30: '🍄', 31: '🍀', 32: '🌴', 33: '🌵', 34: '🌈', 35: '👻', 36: '🍎', 37: '🍌', 38: '🌟', 39: '🌹', 40: '🌊', 41: '🌋', 42: '⛺', 43: '⛄', 44: '⚽', 45: '⚓', 46: '⏰', 47: '🚽', 48: '🚲', 49: '🚤', 50: '🚢', 51: '🚒', 52: '🚀', 53: '👸', 54: '⛷', 55: '💔', 56: '💧', 57: '✊', 58: '👹'}\n"
     ]
    }
   ],
   "source": [
    "import emoji\n",
    "imageDict = dict()\n",
    "fin = open('emoji_names.txt',\"r\")\n",
    "lines = fin.readlines()\n",
    "for i, el in enumerate(lines):\n",
    "    imageDict[i+1] = emoji.emojize(el.strip())\n",
    "print(imageDict)"
   ]
  },
  {
   "cell_type": "markdown",
   "metadata": {},
   "source": [
    "In the cell below, the dobble generator code is edited to store the deck in a dictionary with the card number as key and the image ids in a set as the value."
   ]
  },
  {
   "cell_type": "code",
   "execution_count": 2,
   "metadata": {
    "scrolled": true
   },
   "outputs": [
    {
     "name": "stdout",
     "output_type": "stream",
     "text": [
      "{1: {1, 2, 3, 4, 5, 6, 7, 8}, 2: {1, 9, 10, 11, 12, 13, 14, 15}, 3: {1, 16, 17, 18, 19, 20, 21, 22}, 4: {1, 23, 24, 25, 26, 27, 28, 29}, 5: {32, 1, 33, 34, 35, 36, 30, 31}, 6: {1, 37, 38, 39, 40, 41, 42, 43}, 7: {1, 44, 45, 46, 47, 48, 49, 50}, 8: {1, 51, 52, 53, 54, 55, 56, 57}, 9: {2, 37, 9, 44, 16, 51, 23, 30}, 10: {2, 38, 10, 45, 17, 52, 24, 31}, 11: {32, 2, 39, 11, 46, 18, 53, 25}, 12: {33, 2, 40, 12, 47, 19, 54, 26}, 13: {34, 2, 41, 13, 48, 20, 55, 27}, 14: {2, 35, 42, 14, 49, 21, 56, 28}, 15: {2, 36, 43, 15, 50, 22, 57, 29}, 16: {33, 3, 9, 41, 17, 49, 25, 57}, 17: {34, 3, 10, 42, 18, 50, 51, 26}, 18: {3, 35, 11, 43, 44, 19, 52, 27}, 19: {3, 36, 37, 12, 45, 20, 53, 28}, 20: {3, 38, 13, 46, 21, 54, 29, 30}, 21: {3, 39, 14, 47, 55, 22, 23, 31}, 22: {32, 3, 40, 15, 16, 48, 24, 56}, 23: {4, 36, 38, 9, 47, 18, 56, 27}, 24: {4, 39, 10, 48, 19, 57, 28, 30}, 25: {4, 40, 11, 49, 51, 20, 29, 31}, 26: {32, 4, 41, 12, 50, 52, 21, 23}, 27: {33, 4, 42, 44, 13, 53, 22, 24}, 28: {34, 4, 43, 45, 14, 16, 54, 25}, 29: {35, 4, 37, 46, 15, 17, 55, 26}, 30: {32, 5, 9, 42, 45, 19, 55, 29}, 31: {33, 5, 10, 43, 46, 20, 23, 56}, 32: {34, 5, 37, 11, 47, 21, 24, 57}, 33: {35, 5, 38, 12, 48, 51, 22, 25}, 34: {36, 5, 39, 13, 16, 49, 52, 26}, 35: {5, 40, 14, 17, 50, 53, 27, 30}, 36: {5, 41, 44, 15, 18, 54, 28, 31}, 37: {35, 6, 39, 9, 50, 20, 54, 24}, 38: {36, 6, 40, 10, 44, 21, 55, 25}, 39: {6, 41, 11, 45, 22, 56, 26, 30}, 40: {6, 42, 12, 46, 16, 57, 27, 31}, 41: {32, 6, 43, 13, 47, 17, 51, 28}, 42: {33, 37, 6, 14, 48, 18, 52, 29}, 43: {34, 6, 38, 15, 49, 19, 53, 23}, 44: {7, 9, 43, 48, 21, 53, 26, 31}, 45: {32, 37, 7, 10, 49, 22, 54, 27}, 46: {33, 38, 7, 11, 16, 50, 55, 28}, 47: {34, 7, 39, 12, 44, 17, 56, 29}, 48: {35, 7, 40, 13, 45, 18, 23, 57}, 49: {36, 7, 41, 14, 46, 19, 51, 24}, 50: {7, 42, 15, 47, 20, 52, 25, 30}, 51: {34, 8, 9, 40, 46, 52, 22, 28}, 52: {35, 8, 41, 10, 47, 16, 53, 29}, 53: {36, 8, 42, 11, 48, 17, 54, 23}, 54: {8, 43, 12, 49, 18, 55, 24, 30}, 55: {37, 8, 13, 50, 19, 56, 25, 31}, 56: {32, 38, 8, 44, 14, 20, 57, 26}, 57: {33, 39, 8, 45, 15, 51, 21, 27}}\n"
     ]
    }
   ],
   "source": [
    "#create a dictionary\n",
    "\n",
    "nIm = 8\n",
    "n = nIm - 1\n",
    "r = range(n)\n",
    "rp1 = range(n+1)\n",
    "c = 0\n",
    "\n",
    "deck = {} #create an empty dictionary called deck\n",
    "\n",
    "# First card\n",
    "c += 1\n",
    "deck[c] = set()\n",
    "for i in rp1:\n",
    "    deck[c].add(i+1)\n",
    "\n",
    "\n",
    "# n following cards\n",
    "for j in r:\n",
    "    c = c+1\n",
    "    deck[c] = {1}\n",
    "    for k in r:\n",
    "        deck[c].add(n+2 + n*j +k)\n",
    "\n",
    "\n",
    "# n x n following cards\n",
    "for i in r:\n",
    "    for j in r:\n",
    "        c = c+1\n",
    "        deck[c] = {i+2}\n",
    "        for k in r:\n",
    "            deck[c].add((n+1 +n*k + (i*k+j) % n)+1)\n",
    "print(deck)\n",
    "\n",
    "\n"
   ]
  },
  {
   "cell_type": "markdown",
   "metadata": {},
   "source": [
    "In the cell below is a validity_check() function. \n",
    "\n",
    "This function takes a deck as an argument and an optional verbose argument. This function compares each card in the deck to every other card and checks if each pair of cards has only one image in common. The verbose mode prints an output after each pair of cards is checked. This function returns True if the deck is valid, and False if the deck is invalid. The none verbose mode simply returns True or False. "
   ]
  },
  {
   "cell_type": "code",
   "execution_count": 3,
   "metadata": {},
   "outputs": [],
   "source": [
    "def validity_check(deck, **kwargs): #kwargs used for optional argument\n",
    "    \n",
    "    #if 'verbose' not given as argument, set verbose to Fal\n",
    "    if 'verbose' not in kwargs: \n",
    "        verbose = False \n",
    "    else:\n",
    "        verbose = kwargs['verbose']\n",
    "        \n",
    "    #create a flag and initialise to true\n",
    "    flag = True \n",
    "    \n",
    "    #loop through the deck of cards and compare each card to every other card\n",
    "    for i in range(1, len(deck)): \n",
    "        for j in range(i+1, len(deck)): \n",
    "            print('Checking card ', i, ' against card ', j)\n",
    "            \n",
    "            #if the length of the intersection between the two sets is not equal to \n",
    "            #zero then flag equals false\n",
    "            \n",
    "            if len(deck[i].intersection(deck[j])) != 1: \n",
    "                    flag = False\n",
    "                    \n",
    "                    #if verbose is True, print output for every pair checked\n",
    "                    if verbose: \n",
    "                        print('Not a valid pair of cards')\n",
    "            else: \n",
    "                if verbose: \n",
    "                    print('Valid pair of cards')\n",
    "    #this will return True if it is a valid deck and False if not valid\n",
    "    return flag\n",
    "    \n",
    "                       "
   ]
  },
  {
   "cell_type": "markdown",
   "metadata": {
    "scrolled": false
   },
   "source": [
    "In the cell below are two classes, DobbleCard() and DobbleDeck(). DobbleCard() takes a set of eight numbers as an argument creates a card with eight emojis.\n",
    "\n",
    "The dobbleDeck() class contains a deck of cards. This class takes a deck as argument and creates a new empty dictionary which is a new deck of cards. The add_card() method is called for each key value pair in the deck. In the add_card() method an instance of Dobblecard() is created which contains a set of eight emojis. \n",
    "\n",
    "The remove_card() method removes a card from the deck. The play_card() method chooses a random card from the deck of cards. This method also calls the remove_card() method so that each card that is played is removed from the deck. Finally, the play_card() method returns a card. "
   ]
  },
  {
   "cell_type": "code",
   "execution_count": 4,
   "metadata": {},
   "outputs": [],
   "source": [
    "import random\n",
    "\n",
    "#DobbleCard class which contains a card\n",
    "class DobbleCard(): \n",
    "    \n",
    "    def __init__(self, card):\n",
    "        self.images = set() #create an empty set of images\n",
    "        for number in card: #card is a set of 8 numbers\n",
    "            #add the emoji from imageDict to the empty set of images\n",
    "            self.images.add(imageDict[number]) \n",
    "            \n",
    "#DobbleDeck class which contains a deck   \n",
    "class DobbleDeck():\n",
    "    \n",
    "    def __init__ (self, deck): #takes a deck as argument\n",
    "        self.newDeck = {} #create a new empty deck which is a dictionary\n",
    "        for idx in deck: \n",
    "            #for each key in the deck given as argument, call\n",
    "            #the add_card function and give the key and values as arguments\n",
    "            self.add_card(idx, deck[idx])\n",
    "          \n",
    "        \n",
    "    def add_card(self, idx, card):\n",
    "        #each key in the newDeck dictionary is a dobblecard instance which is a set of 8 numbers\n",
    "        #these 8 numbers are converted to emojis in the dobbleCard class\n",
    "        self.newDeck[idx] =  DobbleCard(card) \n",
    "   \n",
    "        \n",
    "    def remove_card(self, idx):\n",
    "        #card removed from deck when played\n",
    "        del self.newDeck[idx]\n",
    "        \n",
    "    def play_card(self):\n",
    "        #create a variable called number which is a random key in the dictionary\n",
    "        number = random.choice(list(self.newDeck)) \n",
    "        #create a variable called card which is an instance of DobbleCard and get emojis\n",
    "        card = self.newDeck[number].images \n",
    "        #remove the random card which was played from the deck after playing\n",
    "        self.remove_card(number) \n",
    "        #return card to be played\n",
    "        return card \n",
    "    "
   ]
  },
  {
   "cell_type": "markdown",
   "metadata": {},
   "source": [
    "In the cell below is the dobble_game() function which plays the game. An instance of dobbleDeck is created and the sets contained within the cards are stored in two variables, card1 and card2. \n",
    "\n",
    "The scores for each player are initialised to zero. This game is played within a while loop. This loop asks the user how many games they want to play. Checks are in place to ensure a valid number is entered. The game is then played until the limit entered by the user is reached. \n",
    "\n",
    "Two cards are initially printed to the user. The user enters the winner and the scores are incremented for a or b, accordingly. An error is printed if a valid winner is not entered. Each time a valid winner is entered by the user, card1 is replaced by card2 and card2 becomes a new card by calling the play_card() method. \n",
    "\n",
    "The scores are printed to the user. The while loop breaks once the limit has been reached and the game is over. "
   ]
  },
  {
   "cell_type": "code",
   "execution_count": 13,
   "metadata": {},
   "outputs": [],
   "source": [
    " d = DobbleDeck(deck)\n",
    "def dobble_game():\n",
    "    \n",
    "    #create an instance of DobbleDeck called d\n",
    "    #create two variables which call the play_card method \n",
    "    #a set of eight emojis will be returned to each of these variables\n",
    "    \n",
    "    card1 = d.play_card() \n",
    "    card2 = d.play_card() \n",
    "\n",
    "    #initialise the scores for a and b to zero. \n",
    "    score_a = 0 \n",
    "    score_b = 0\n",
    "\n",
    "    #ask user to enter number of games they wish to play \n",
    "    while True:\n",
    "        limit = input('How many games would you like to play? ')\n",
    "        \n",
    "        #Cast limit to an int. Exception handling in case limit entered is not an int\n",
    "        try: \n",
    "            limit = int(limit) \n",
    "        except: \n",
    "            print('You must enter a number.')\n",
    "            continue\n",
    "            \n",
    "        #if limit entered isn't between 1 and 57 then ask for input again\n",
    "        if (limit > 57) or (limit < 1):\n",
    "            print('Numer must be between 1 and 57.')\n",
    "            continue \n",
    "        else: \n",
    "            print('If you want to record a draw type d or D.')\n",
    "            \n",
    "            #for loop to continue playing game until limit is reached\n",
    "            for i in range(limit):\n",
    "\n",
    "                #cards are printed as lists as sets cannot be indexed\n",
    "                # \\t used to format the images and commas are removed from list\n",
    "                \n",
    "                print(*list(card1)[0:3], '\\t', '\\t', *list(card2)[0:3], sep = ' ')\n",
    "                print(*list(card1)[3:6], '\\t', '\\t', *list(card2)[3:6], sep = ' ')\n",
    "                print(*list(card1)[6:9], '\\t', '\\t', '\\t', *list(card2)[6:9], sep = ' ')\n",
    "                \n",
    "                #in this while loop the user enters the winner\n",
    "                \n",
    "                while True: \n",
    "                    #ask user for winner and convert input to lowercase\n",
    "                    winner = input('who wins (a or b)? ').lower() \n",
    "                    \n",
    "                    #increment the score of the winner\n",
    "                    if winner == 'a':\n",
    "                        score_a += 1 \n",
    "                        break #break out of loop when valid score given\n",
    "                        \n",
    "                    elif winner == 'b':\n",
    "                        score_b += 1\n",
    "                        break\n",
    "                        \n",
    "                    elif winner == 'd':\n",
    "                        break\n",
    "                        \n",
    "                    #print error message if user does not enter valid winner\n",
    "                    elif (winner != 'a') and (winner != 'b') and (winner != 'd'):\n",
    "                        print('You must enter a, b, or d!')\n",
    "                        \n",
    "                        \n",
    "                #card1 becomes card2\n",
    "                card1 = card2 \n",
    "                \n",
    "                #A new card is played for card2. Each card gets played twice.\n",
    "                card2 = d.play_card()\n",
    "\n",
    "            #print the score to the user\n",
    "            \n",
    "            print()\n",
    "            print('Game over!')\n",
    "            print('Score:')\n",
    "            print('A:', score_a)\n",
    "            print('B:', score_b)\n",
    "            \n",
    "            break #break out of outer while loop when game over\n",
    "\n",
    "\n"
   ]
  },
  {
   "cell_type": "markdown",
   "metadata": {},
   "source": [
    "The function is called below."
   ]
  },
  {
   "cell_type": "code",
   "execution_count": 14,
   "metadata": {},
   "outputs": [
    {
     "name": "stdout",
     "output_type": "stream",
     "text": [
      "How many games would you like to play? 1\n",
      "If you want to record a draw type d or D.\n",
      "👸 🐼 🌟 \t \t ⛄ 🎩 ✊\n",
      "🚤 🎸 🎈 \t \t 🚢 🍎 🐕\n",
      "🌈 🐜 \t \t \t 🍉 🐜\n",
      "who wins (a or b)? a\n",
      "\n",
      "Game over!\n",
      "Score:\n",
      "A: 1\n",
      "B: 0\n"
     ]
    }
   ],
   "source": [
    "dobble_game()"
   ]
  },
  {
   "cell_type": "code",
   "execution_count": 16,
   "metadata": {},
   "outputs": [
    {
     "data": {
      "text/plain": [
       "{'newDeck': {1: <__main__.DobbleCard at 0x10c7e1d10>,\n",
       "  2: <__main__.DobbleCard at 0x10c7e1d50>,\n",
       "  3: <__main__.DobbleCard at 0x10c7e1d90>,\n",
       "  4: <__main__.DobbleCard at 0x10c7e1dd0>,\n",
       "  5: <__main__.DobbleCard at 0x10c7e1e10>,\n",
       "  6: <__main__.DobbleCard at 0x10c7e1e50>,\n",
       "  7: <__main__.DobbleCard at 0x10c7e1e90>,\n",
       "  8: <__main__.DobbleCard at 0x10c7e1ed0>,\n",
       "  9: <__main__.DobbleCard at 0x10c7e1f10>,\n",
       "  10: <__main__.DobbleCard at 0x10c7e1f50>,\n",
       "  11: <__main__.DobbleCard at 0x10c7e1f90>,\n",
       "  12: <__main__.DobbleCard at 0x10c7e1fd0>,\n",
       "  13: <__main__.DobbleCard at 0x10c7d3050>,\n",
       "  14: <__main__.DobbleCard at 0x10c7d3090>,\n",
       "  16: <__main__.DobbleCard at 0x10c7d3110>,\n",
       "  17: <__main__.DobbleCard at 0x10c7d3150>,\n",
       "  18: <__main__.DobbleCard at 0x10c7d3190>,\n",
       "  19: <__main__.DobbleCard at 0x10c7d31d0>,\n",
       "  20: <__main__.DobbleCard at 0x10c7d3210>,\n",
       "  21: <__main__.DobbleCard at 0x10c7d3250>,\n",
       "  22: <__main__.DobbleCard at 0x10c7d3290>,\n",
       "  23: <__main__.DobbleCard at 0x10c7d32d0>,\n",
       "  24: <__main__.DobbleCard at 0x10c7d3310>,\n",
       "  25: <__main__.DobbleCard at 0x10c7d3350>,\n",
       "  26: <__main__.DobbleCard at 0x10c7d3390>,\n",
       "  27: <__main__.DobbleCard at 0x10c7d33d0>,\n",
       "  28: <__main__.DobbleCard at 0x10c7d3410>,\n",
       "  29: <__main__.DobbleCard at 0x10c7d3450>,\n",
       "  30: <__main__.DobbleCard at 0x10c7d3490>,\n",
       "  31: <__main__.DobbleCard at 0x10c7d34d0>,\n",
       "  32: <__main__.DobbleCard at 0x10c7d3510>,\n",
       "  33: <__main__.DobbleCard at 0x10c7d3550>,\n",
       "  34: <__main__.DobbleCard at 0x10c7d3590>,\n",
       "  35: <__main__.DobbleCard at 0x10c7d35d0>,\n",
       "  36: <__main__.DobbleCard at 0x10c7d3610>,\n",
       "  37: <__main__.DobbleCard at 0x10c7d3650>,\n",
       "  38: <__main__.DobbleCard at 0x10c7d3690>,\n",
       "  39: <__main__.DobbleCard at 0x10c7d36d0>,\n",
       "  40: <__main__.DobbleCard at 0x10c7d3710>,\n",
       "  41: <__main__.DobbleCard at 0x10c7d3750>,\n",
       "  42: <__main__.DobbleCard at 0x10c7d3790>,\n",
       "  44: <__main__.DobbleCard at 0x10c7d3810>,\n",
       "  45: <__main__.DobbleCard at 0x10c7d3850>,\n",
       "  46: <__main__.DobbleCard at 0x10c7d3890>,\n",
       "  47: <__main__.DobbleCard at 0x10c7d38d0>,\n",
       "  48: <__main__.DobbleCard at 0x10c7d3910>,\n",
       "  49: <__main__.DobbleCard at 0x10c7d3950>,\n",
       "  50: <__main__.DobbleCard at 0x10c7d3990>,\n",
       "  51: <__main__.DobbleCard at 0x10c7d39d0>,\n",
       "  52: <__main__.DobbleCard at 0x10c7d3a10>,\n",
       "  53: <__main__.DobbleCard at 0x10c7d3a50>,\n",
       "  54: <__main__.DobbleCard at 0x10c7d3a90>,\n",
       "  56: <__main__.DobbleCard at 0x10c7d3b10>,\n",
       "  57: <__main__.DobbleCard at 0x10c7d3b50>}}"
      ]
     },
     "execution_count": 16,
     "metadata": {},
     "output_type": "execute_result"
    }
   ],
   "source": [
    "d.__dict__"
   ]
  },
  {
   "cell_type": "code",
   "execution_count": null,
   "metadata": {},
   "outputs": [],
   "source": []
  }
 ],
 "metadata": {
  "kernelspec": {
   "display_name": "Python 3",
   "language": "python",
   "name": "python3"
  },
  "language_info": {
   "codemirror_mode": {
    "name": "ipython",
    "version": 3
   },
   "file_extension": ".py",
   "mimetype": "text/x-python",
   "name": "python",
   "nbconvert_exporter": "python",
   "pygments_lexer": "ipython3",
   "version": "3.7.4"
  }
 },
 "nbformat": 4,
 "nbformat_minor": 2
}
