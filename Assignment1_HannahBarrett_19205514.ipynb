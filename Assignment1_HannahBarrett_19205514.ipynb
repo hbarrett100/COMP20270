{
 "cells": [
  {
   "cell_type": "markdown",
   "metadata": {},
   "source": [
    "This is my slot machine.\n",
    "\n",
    "In the cell below I have created a class called Purse(). \n",
    "\n",
    "Within this class I have initialised the available credit to 10, as per assignment instructions. I have created a method called debit() within this class which takes money out of the purse when a bet is taken. I have created a method called credit() which adds money to the purse if a score is won. The get_balance() method returns the available credit and is used to print the available credit to the player."
   ]
  },
  {
   "cell_type": "code",
   "execution_count": 1,
   "metadata": {},
   "outputs": [],
   "source": [
    "import emoji\n",
    "import random\n",
    "from random import choice \n",
    "\n",
    "\n",
    "class Purse(): #Purse object created\n",
    "    \n",
    "    def __init__(self): #default credit is 10\n",
    "        self.total = 10\n",
    "    \n",
    "    def debit(self, debit): #debit method to take money away when bet is taken\n",
    "        self.total -= debit\n",
    "        \n",
    "    def credit(self, credit): #credit method to add score to available credit\n",
    "        self.total += credit\n",
    "        \n",
    "    def get_balance(self): #get balance method which returns the available credit\n",
    "        return self.total"
   ]
  },
  {
   "cell_type": "markdown",
   "metadata": {},
   "source": [
    "In the cell below I have created a class called Slot(). \n",
    "\n",
    "In the init method of this class I have initialised the bet to zero and have created three instances of the Column() class and one instance of the Purse() class. I have done this so that when playing the game, I only have to create an instance of Slot() and all other methods can be called from within this class. It also makes sense logically, with the way the slot machine works. \n",
    "\n",
    "Within the Slot() class I have created the a pull_handle() method which has three instance variables which invoke the change_face() method in the Column() class when pull_handle() is invoked itself.\n",
    "\n",
    "I have created a show_slot() method which is used to print out the fruit emoji's to the user after the handle has been pulled and the faces have been changed. The changed faces are returned by the change_face() method back to pull_handle() so I am printing these columns to the user. \n",
    "\n",
    "I have created a take_bet() which debits the bet from the purse by calling the debit() method within Purse(). This is conveniently done as I have already created an instance of Purse() within the Slot() class. \n",
    "\n",
    "The final method within Slot() is the score_slot() method. For this I have used sets. I create an empty set and then add the three columns to the set. Sets don't have duplicates so by checking the length of the set, I can tell how many matching faces the player has won. The score is then calculated according to the assignment specifications and the score is added to the purse using the credit() method within purse(). "
   ]
  },
  {
   "cell_type": "code",
   "execution_count": 2,
   "metadata": {},
   "outputs": [],
   "source": [
    "\n",
    "class Slot(): #Slot object created\n",
    "    \n",
    "    def __init__ (self):\n",
    "        self.bet = 0 #initialise bet to 0\n",
    "        self.col1 = Column()\n",
    "        self.col2 = Column()\n",
    "        self.col3 = Column() # instantiate Column class within Slot\n",
    "        self.purse = Purse() # instantiate Purse class within Slot\n",
    "        \n",
    "    def pull_handle(self): #pull handle method will call change_face() for each column\n",
    "        self.col1.change_face() \n",
    "        self.col2.change_face()\n",
    "        self.col3.change_face()\n",
    "        \n",
    "    def show_slot(self): #method to show the fruit emoji after the handle is pulled\n",
    "        print(self.col1.change_face(),self.col2.change_face(),self.col3.change_face())\n",
    "        #emoji is returned back to the variables in the pull_handle method, so this is\n",
    "        #what is printed to player\n",
    "\n",
    "    def take_bet(self, bet): #method for taking the bet\n",
    "        self.bet = bet\n",
    "        self.purse.debit(bet) #take credit from purse when bet is taken  \n",
    "            \n",
    "    def score_slot(self): #method to calculate the score\n",
    "        \n",
    "        score_set = set() #create empty set. Sets don't allow duplicates. \n",
    "        \n",
    "        score_set.add(self.col1.face) #add all three columns to set\n",
    "        score_set.add(self.col2.face)\n",
    "        score_set.add(self.col3.face)\n",
    "        \n",
    "        if len(score_set) == 3: #if three columns present, all are different so no score\n",
    "            return 0\n",
    "\n",
    "        if len(score_set) == 2: #two columns in set\n",
    "            score = self.bet + (self.bet/2) #player wins bet plus half the bet\n",
    "            self.purse.credit(score) #score added to purse\n",
    "            return score #return value of score for print statement during the game\n",
    "                        \n",
    "        if len(score_set) == 1:  #one column in set - all emoji's are the same\n",
    "            score = self.bet*2 #player wins double the bet\n",
    "            self.purse.credit(score) #add score to purse\n",
    "            return score #return value of score for print statement during the game\n",
    "        "
   ]
  },
  {
   "cell_type": "markdown",
   "metadata": {},
   "source": [
    "The cell below contains the final class Column(). Within this class I have created a list of possible emojis. In the init method I have created an instance variable called face and have initialised the face to an empty string. In the change_face() method, I use random.choice to add a random emoji to the face. I then return the face back to pull_handle() in the Slot() class. "
   ]
  },
  {
   "cell_type": "code",
   "execution_count": 3,
   "metadata": {},
   "outputs": [],
   "source": [
    "class Column(): #column object\n",
    "     \n",
    "    fruit_bowl = [emoji.emojize(':red_apple:'), #list of possible fruit emoji's\n",
    "                emoji.emojize(':pear:'),\n",
    "                emoji.emojize(':tangerine:')]\n",
    "    \n",
    "    def __init__(self): \n",
    "        self.face = '' #initialise each column as an empty face\n",
    "    \n",
    "    def change_face(self): #randomly change face of column when handle is pulled\n",
    "        self.face = random.choice(Column.fruit_bowl) \n",
    "        return self.face #return the face back to pull_handle()\n",
    "        \n",
    "    "
   ]
  },
  {
   "cell_type": "markdown",
   "metadata": {},
   "source": [
    "I have decided to run the slot machine within a while loop in the run_slot_machine function. An instance of Slot() is created to play the game. Within the loop I check if the available credit is greater than 2. I have then added checks for whether the player entered 'N' or 'n', whether the bet is an integer and then whether the integer is greater than two and less than the available credit. Floats are not valid. \n",
    "\n",
    "I have included error handling when casting the bet to an integer."
   ]
  },
  {
   "cell_type": "code",
   "execution_count": 4,
   "metadata": {
    "scrolled": true
   },
   "outputs": [],
   "source": [
    "def run_slot_machine():\n",
    "    \n",
    "    print('======= SLOT MACHINE =======')\n",
    "    print('Minimum bet is 2. Type \\'N\\' to exit')\n",
    "    print('You have 10')\n",
    "    \n",
    "    player = Slot() #create an instance of Slot()\n",
    "  \n",
    "    while True: \n",
    "        availableCredit = player.purse.total #available credit to bet from is total in purse\n",
    "        if availableCredit < 2: \n",
    "            print('You have run out of money. You are leaving with ',player.purse.get_balance())\n",
    "            break #break out of loop if credit is too low to play\n",
    "        bet = input('How much do you bet: ') #ask user to bet\n",
    "        if (bet == 'N') or (bet == 'n'):\n",
    "            print('You have chosen to leave the game. Thank you for playing.')\n",
    "            break #if user enters 'n' or 'N', break out of loop and game is over. \n",
    "\n",
    "        try: #including exception handling \n",
    "            bet = int(bet) #ensure bet entered was an integer (floats not allowed)\n",
    "        except: \n",
    "            print('Not a valid bet.') #if not an integer, give error message\n",
    "            continue #continue back up to start of while loop \n",
    "        if (bet < 2) or (bet > availableCredit): #error if integer invalid\n",
    "            print('You did not bet a valid amount.') \n",
    "            continue #continue back up to start of while loop \n",
    "        else: #if bet valid call methods below to play\n",
    "            player.take_bet(bet) \n",
    "            player.pull_handle() \n",
    "            player.show_slot() #print the emojis to the player\n",
    "            print('You score ', player.score_slot(), '. You have ', player.purse.get_balance())\n",
    "            #print score and available credit to player"
   ]
  },
  {
   "cell_type": "markdown",
   "metadata": {},
   "source": [
    "The function is called below. "
   ]
  },
  {
   "cell_type": "code",
   "execution_count": null,
   "metadata": {
    "scrolled": true
   },
   "outputs": [],
   "source": [
    "run_slot_machine()"
   ]
  }
 ],
 "metadata": {
  "kernelspec": {
   "display_name": "Python 3",
   "language": "python",
   "name": "python3"
  },
  "language_info": {
   "codemirror_mode": {
    "name": "ipython",
    "version": 3
   },
   "file_extension": ".py",
   "mimetype": "text/x-python",
   "name": "python",
   "nbconvert_exporter": "python",
   "pygments_lexer": "ipython3",
   "version": "3.7.4"
  }
 },
 "nbformat": 4,
 "nbformat_minor": 2
}
